{
 "cells": [
  {
   "cell_type": "markdown",
   "metadata": {},
   "source": [
    "## The Celebrity Problem\n",
    "\n",
    "In a party of N people, only one person, a celebrity, is known to everyone else. If such a person is present in the party, (s)he does not know anyone else in the party. Our goal is to find the celebrity out of all the people invited to this party, given a list of acquaintances."
   ]
  },
  {
   "cell_type": "markdown",
   "metadata": {},
   "source": [
    "  "
   ]
  },
  {
   "cell_type": "markdown",
   "metadata": {},
   "source": [
    "![](assets/celebrity.jpg)"
   ]
  },
  {
   "cell_type": "markdown",
   "metadata": {},
   "source": [
    "  "
   ]
  },
  {
   "cell_type": "markdown",
   "metadata": {},
   "source": [
    "  "
   ]
  },
  {
   "cell_type": "markdown",
   "metadata": {},
   "source": [
    "## Solution with PageRank"
   ]
  },
  {
   "cell_type": "markdown",
   "metadata": {},
   "source": [
    "A simple, analytical solution to this problem would be to model a graph, with each node representing a person invited to the party, and each edge representing an acquaintance between two people. The celebrity would then be the person represented by the sink node of this graph.\n",
    "\n",
    "The PageRank algorithm is very capable of solving these type of problems, and although this is too simple a problem to be solved with PageRank, but we are still willing to do so, as this trivial problem can help us better understand the basic working of the algorithm."
   ]
  },
  {
   "cell_type": "markdown",
   "metadata": {},
   "source": [
    "### Importing Graph class"
   ]
  },
  {
   "cell_type": "code",
   "execution_count": 6,
   "metadata": {},
   "outputs": [],
   "source": [
    "import sys\n",
    "sys.path.append('../Implementation')\n",
    "from graph import Graph"
   ]
  },
  {
   "cell_type": "markdown",
   "metadata": {},
   "source": [
    "### Initializing a random celebrity problem instance\n",
    "We are choosing <b>Robert Downey Jr</b> as the celebrity of our party. "
   ]
  },
  {
   "cell_type": "code",
   "execution_count": 8,
   "metadata": {},
   "outputs": [],
   "source": [
    "celebrities = ['Adam', 'Jack', 'Candice', 'Ross', 'Carol', 'Sammy', 'Joey', 'Pete', 'Walter', 'Robert Downey Jr']\n",
    "acquaintances = [\n",
    "    ('Adam', 'Robert Downey Jr'), \n",
    "    ('Adam', 'Candice'), \n",
    "    ('Adam', 'Pete'), \n",
    "    ('Adam', 'Walter'), \n",
    "    ('Jack', 'Robert Downey Jr'), \n",
    "    ('Jack', 'Adam'),\n",
    "    ('Jack', 'Candice'),\n",
    "    ('Jack', 'Pete'),\n",
    "    ('Candice', 'Robert Downey Jr'),\n",
    "    ('Candice', 'Ross'),\n",
    "    ('Candice', 'Carol'),\n",
    "    ('Ross', 'Robert Downey Jr'),\n",
    "    ('Ross', 'Adam'),\n",
    "    ('Ross', 'Candice'),\n",
    "    ('Ross', 'Joey'),\n",
    "    ('Carol', 'Robert Downey Jr'),\n",
    "    ('Carol', 'Sammy'),\n",
    "    ('Sammy', 'Robert Downey Jr'),\n",
    "    ('Sammy', 'Adam'),\n",
    "    ('Sammy', 'Walter'),\n",
    "    ('Sammy', 'Joey'),\n",
    "    ('Sammy', 'Candice'),\n",
    "    ('Joey', 'Robert Downey Jr'),\n",
    "    ('Pete', 'Robert Downey Jr'),\n",
    "    ('Pete', 'Joey'),\n",
    "    ('Walter', 'Robert Downey Jr'),\n",
    "    ('Walter', 'Jack'),\n",
    "    ('Walter', 'Ross'),\n",
    "    ('Walter', 'Carol')\n",
    "]"
   ]
  },
  {
   "cell_type": "markdown",
   "metadata": {},
   "source": [
    "### Getting Ranks with PageRank"
   ]
  },
  {
   "cell_type": "code",
   "execution_count": 29,
   "metadata": {},
   "outputs": [
    {
     "name": "stdout",
     "output_type": "stream",
     "text": [
      "Robert Downey Jr : 0.28948\n",
      "Joey : 0.09887\n",
      "Candice : 0.09863\n",
      "Ross : 0.08233\n",
      "Carol : 0.08233\n",
      "Adam : 0.08134\n",
      "Sammy : 0.0746\n",
      "Walter : 0.06957\n",
      "Pete : 0.06845\n",
      "Jack : 0.05439\n"
     ]
    }
   ],
   "source": [
    "graph = Graph(celebrities, acquaintances)\n",
    "ranks = graph.rank(num_iterations=50)\n",
    "rank_list = sorted([(vertex, ranks[vertex]) for vertex in ranks], key=lambda x: -x[1])\n",
    "for vertex, rank in rank_list:\n",
    "    print(vertex, \":\", round(rank, 5))"
   ]
  },
  {
   "cell_type": "markdown",
   "metadata": {},
   "source": [
    "#### As we can see, the PageRank algorithm has alloted the greatest rank to our celebrity <b>Robert Downey Jr</b>"
   ]
  }
 ],
 "metadata": {
  "kernelspec": {
   "display_name": "Python 3",
   "language": "python",
   "name": "python3"
  },
  "language_info": {
   "codemirror_mode": {
    "name": "ipython",
    "version": 3
   },
   "file_extension": ".py",
   "mimetype": "text/x-python",
   "name": "python",
   "nbconvert_exporter": "python",
   "pygments_lexer": "ipython3",
   "version": "3.7.3"
  }
 },
 "nbformat": 4,
 "nbformat_minor": 2
}
