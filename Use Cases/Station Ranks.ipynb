{
 "cells": [
  {
   "cell_type": "markdown",
   "metadata": {},
   "source": [
    "# Station Ranks"
   ]
  },
  {
   "cell_type": "markdown",
   "metadata": {},
   "source": [
    "We have seen how the PageRank algorithm works on the trivial problem of identification of a celebrity from a list of people invited to a party. Its now time to put our PageRank algorithm through a real task. The task of obtaining a ranking of all the railway stations of India, based on the amount of traffic flowing through them."
   ]
  },
  {
   "cell_type": "markdown",
   "metadata": {},
   "source": [
    "  "
   ]
  },
  {
   "cell_type": "markdown",
   "metadata": {},
   "source": [
    "![](assets/Images/railway_station.jpg)"
   ]
  },
  {
   "cell_type": "markdown",
   "metadata": {},
   "source": [
    "  "
   ]
  },
  {
   "cell_type": "markdown",
   "metadata": {},
   "source": [
    "There are more than 8000 railway stations in India. Over 10000 trains pass through these railawy stations to form a large connected network. Our task requires us to rank all the railway stations of India in the order of how busy they are throughout the year.\n",
    "\n",
    "As you might have obsereved, given such a large sized network, consisting of numerous trains and railway stations, it might prove difficult to assign a metric of ranking to each railway staton which defines how busy it remains throughout the year.\n",
    "Luckily for us, the PageRank algorithm is quite capable of solving such complex ranking problems, and can provide us with a pretty good ranking of all the train stations in India."
   ]
  },
  {
   "cell_type": "markdown",
   "metadata": {},
   "source": [
    "### Importing datasets"
   ]
  },
  {
   "cell_type": "markdown",
   "metadata": {},
   "source": [
    "To build our network, we make use of two datasets given to us in the form of csv files, <b>trains.csv</b> and <b>stations.csv</b>. These dataset were made available to us courtesy of <a href=\"https://github.com/ayushdubey003/\">Ayush Dubey</a>."
   ]
  },
  {
   "cell_type": "code",
   "execution_count": 1,
   "metadata": {},
   "outputs": [],
   "source": [
    "import numpy as np\n",
    "import pandas as pd\n",
    "\n",
    "stations_dataset = pd.read_csv('assets/Datasets/stations.csv')\n",
    "trains_dataset = pd.read_csv('assets/Datasets/trains.csv')"
   ]
  },
  {
   "cell_type": "markdown",
   "metadata": {},
   "source": [
    "Pre-viewing stations datatset"
   ]
  },
  {
   "cell_type": "code",
   "execution_count": 2,
   "metadata": {},
   "outputs": [
    {
     "data": {
      "text/html": [
       "<div>\n",
       "<style scoped>\n",
       "    .dataframe tbody tr th:only-of-type {\n",
       "        vertical-align: middle;\n",
       "    }\n",
       "\n",
       "    .dataframe tbody tr th {\n",
       "        vertical-align: top;\n",
       "    }\n",
       "\n",
       "    .dataframe thead th {\n",
       "        text-align: right;\n",
       "    }\n",
       "</style>\n",
       "<table border=\"1\" class=\"dataframe\">\n",
       "  <thead>\n",
       "    <tr style=\"text-align: right;\">\n",
       "      <th></th>\n",
       "      <th>Station Names</th>\n",
       "      <th>Station Codes</th>\n",
       "      <th>Latitude</th>\n",
       "      <th>Longitude</th>\n",
       "    </tr>\n",
       "  </thead>\n",
       "  <tbody>\n",
       "    <tr>\n",
       "      <th>0</th>\n",
       "      <td>A N DEV NAGAR</td>\n",
       "      <td>ACND</td>\n",
       "      <td>26.7753° N</td>\n",
       "      <td>82.1575° E</td>\n",
       "    </tr>\n",
       "    <tr>\n",
       "      <th>1</th>\n",
       "      <td>ABADA</td>\n",
       "      <td>ABB</td>\n",
       "      <td>22.5488° N</td>\n",
       "      <td>88.2035° E</td>\n",
       "    </tr>\n",
       "    <tr>\n",
       "      <th>2</th>\n",
       "      <td>ABHAIPUR</td>\n",
       "      <td>AHA</td>\n",
       "      <td>25.2167° N</td>\n",
       "      <td>86.3206° E</td>\n",
       "    </tr>\n",
       "    <tr>\n",
       "      <th>3</th>\n",
       "      <td>ABHANPUR JN</td>\n",
       "      <td>AVP</td>\n",
       "      <td>21.0529° N</td>\n",
       "      <td>81.7441° E</td>\n",
       "    </tr>\n",
       "    <tr>\n",
       "      <th>4</th>\n",
       "      <td>ABHAYAPURI ASAM</td>\n",
       "      <td>AYU</td>\n",
       "      <td>26.3589° N</td>\n",
       "      <td>90.6485° E</td>\n",
       "    </tr>\n",
       "  </tbody>\n",
       "</table>\n",
       "</div>"
      ],
      "text/plain": [
       "     Station Names Station Codes    Latitude   Longitude\n",
       "0    A N DEV NAGAR          ACND  26.7753° N  82.1575° E\n",
       "1            ABADA           ABB  22.5488° N  88.2035° E\n",
       "2         ABHAIPUR           AHA  25.2167° N  86.3206° E\n",
       "3      ABHANPUR JN           AVP  21.0529° N  81.7441° E\n",
       "4  ABHAYAPURI ASAM           AYU  26.3589° N  90.6485° E"
      ]
     },
     "execution_count": 2,
     "metadata": {},
     "output_type": "execute_result"
    }
   ],
   "source": [
    "stations_dataset.head()"
   ]
  },
  {
   "cell_type": "markdown",
   "metadata": {},
   "source": [
    "Pre-viewing trains dataset"
   ]
  },
  {
   "cell_type": "code",
   "execution_count": 3,
   "metadata": {},
   "outputs": [
    {
     "data": {
      "text/html": [
       "<div>\n",
       "<style scoped>\n",
       "    .dataframe tbody tr th:only-of-type {\n",
       "        vertical-align: middle;\n",
       "    }\n",
       "\n",
       "    .dataframe tbody tr th {\n",
       "        vertical-align: top;\n",
       "    }\n",
       "\n",
       "    .dataframe thead th {\n",
       "        text-align: right;\n",
       "    }\n",
       "</style>\n",
       "<table border=\"1\" class=\"dataframe\">\n",
       "  <thead>\n",
       "    <tr style=\"text-align: right;\">\n",
       "      <th></th>\n",
       "      <th>Train Number</th>\n",
       "      <th>Train Name</th>\n",
       "      <th>Running Days</th>\n",
       "      <th>Available Classes</th>\n",
       "      <th>Type</th>\n",
       "      <th>Zone</th>\n",
       "    </tr>\n",
       "  </thead>\n",
       "  <tbody>\n",
       "    <tr>\n",
       "      <th>0</th>\n",
       "      <td>12723</td>\n",
       "      <td>TELANGANA  EXP</td>\n",
       "      <td>Daily</td>\n",
       "      <td>1A 2A 3A SL GN</td>\n",
       "      <td>Super Fast</td>\n",
       "      <td>SCR</td>\n",
       "    </tr>\n",
       "    <tr>\n",
       "      <th>1</th>\n",
       "      <td>22416</td>\n",
       "      <td>A P EXP</td>\n",
       "      <td>Daily</td>\n",
       "      <td>1A 2A 3A</td>\n",
       "      <td>Super Fast</td>\n",
       "      <td>NR</td>\n",
       "    </tr>\n",
       "    <tr>\n",
       "      <th>2</th>\n",
       "      <td>12724</td>\n",
       "      <td>TELANGANA EXP</td>\n",
       "      <td>Daily</td>\n",
       "      <td>1A 2A 3A SL GN</td>\n",
       "      <td>Super Fast</td>\n",
       "      <td>SCR</td>\n",
       "    </tr>\n",
       "    <tr>\n",
       "      <th>3</th>\n",
       "      <td>12707</td>\n",
       "      <td>A P SMPRK KRNTI</td>\n",
       "      <td>MON  WED  FRI</td>\n",
       "      <td>2A 3A SL GN</td>\n",
       "      <td>Super Fast</td>\n",
       "      <td>SCR</td>\n",
       "    </tr>\n",
       "    <tr>\n",
       "      <th>4</th>\n",
       "      <td>54582</td>\n",
       "      <td>DLPC NLDM PASS</td>\n",
       "      <td>Daily</td>\n",
       "      <td>UNRESERVED</td>\n",
       "      <td>Passenger</td>\n",
       "      <td>NR</td>\n",
       "    </tr>\n",
       "  </tbody>\n",
       "</table>\n",
       "</div>"
      ],
      "text/plain": [
       "   Train Number       Train Name   Running Days Available Classes        Type  \\\n",
       "0         12723   TELANGANA  EXP          Daily    1A 2A 3A SL GN  Super Fast   \n",
       "1         22416          A P EXP          Daily          1A 2A 3A  Super Fast   \n",
       "2         12724    TELANGANA EXP          Daily    1A 2A 3A SL GN  Super Fast   \n",
       "3         12707  A P SMPRK KRNTI  MON  WED  FRI       2A 3A SL GN  Super Fast   \n",
       "4         54582   DLPC NLDM PASS          Daily        UNRESERVED   Passenger   \n",
       "\n",
       "  Zone  \n",
       "0  SCR  \n",
       "1   NR  \n",
       "2  SCR  \n",
       "3  SCR  \n",
       "4   NR  "
      ]
     },
     "execution_count": 3,
     "metadata": {},
     "output_type": "execute_result"
    }
   ],
   "source": [
    "trains_dataset.iloc[:, :6].head()"
   ]
  },
  {
   "cell_type": "markdown",
   "metadata": {},
   "source": [
    "  "
   ]
  },
  {
   "cell_type": "markdown",
   "metadata": {},
   "source": [
    "### Building our railway network"
   ]
  },
  {
   "cell_type": "markdown",
   "metadata": {},
   "source": [
    "We first need to list all the stations in our railway network."
   ]
  },
  {
   "cell_type": "code",
   "execution_count": 4,
   "metadata": {},
   "outputs": [],
   "source": [
    "station_table = stations_dataset.values\n",
    "train_table = trains_dataset.values\n",
    "\n",
    "station_mapping = {}\n",
    "for i in range(np.size(station_table, axis=0)):\n",
    "    station_mapping[station_table[i, 1]] = {'name': station_table[i, 0]}"
   ]
  },
  {
   "cell_type": "markdown",
   "metadata": {},
   "source": [
    "Next, we will build our railway network by using all the train routes."
   ]
  },
  {
   "cell_type": "code",
   "execution_count": 5,
   "metadata": {},
   "outputs": [
    {
     "name": "stdout",
     "output_type": "stream",
     "text": [
      "2424929\n"
     ]
    }
   ],
   "source": [
    "edges = []\n",
    "for i in range(np.size(train_table, axis=0)):\n",
    "    station_list = train_table[i, 7][:-1].split('$')\n",
    "    for i in range(len(station_list)):\n",
    "        if station_list[i] not in station_mapping:\n",
    "            continue\n",
    "        else:   \n",
    "            for j in range(i + 1, len(station_list)):\n",
    "                if station_list[j] not in station_mapping:\n",
    "                    continue\n",
    "                else:\n",
    "                    edges.append((station_list[i], station_list[j], 1))\n",
    "print(len(edges))"
   ]
  },
  {
   "cell_type": "markdown",
   "metadata": {},
   "source": [
    "### Modeling our graph"
   ]
  },
  {
   "cell_type": "code",
   "execution_count": 6,
   "metadata": {},
   "outputs": [],
   "source": [
    "import sys\n",
    "sys.path.append('../Implementation')\n",
    "from graph import Graph\n",
    "\n",
    "graph = Graph(list(station_mapping.keys()), edges)"
   ]
  },
  {
   "cell_type": "markdown",
   "metadata": {},
   "source": [
    "### Getting top 100 Rankings"
   ]
  },
  {
   "cell_type": "code",
   "execution_count": 7,
   "metadata": {},
   "outputs": [
    {
     "name": "stdout",
     "output_type": "stream",
     "text": [
      "HOWRAH JN : 0.00166\n",
      "VIJAYAWADA JN : 0.00144\n",
      "KALYAN JN : 0.00131\n",
      "KANPUR CENTRAL : 0.00131\n",
      "ITARSI JN : 0.00126\n",
      "LUCKNOW NR : 0.00122\n",
      "AHMEDABAD JN : 0.00119\n",
      "VADODARA JN : 0.00119\n",
      "AMBALA CANT JN : 0.00117\n",
      "THANE : 0.00114\n",
      "GHAZIABAD : 0.00113\n",
      "SURAT : 0.00111\n",
      "LUDHIANA JN : 0.00109\n",
      "JHANSI JN : 0.00107\n",
      "BHOPAL  JN : 0.00104\n",
      "MORADABAD : 0.00104\n",
      "MATHURA JN : 0.00102\n",
      "DELHI : 0.00102\n",
      "VARANASI JN : 0.00101\n",
      "DD UPADHYAYA JN : 0.00101\n",
      "BHUSAVAL JN : 0.001\n",
      "BARDDHAMAN JN : 0.00098\n",
      "DADAR : 0.00098\n",
      "H NIZAMUDDIN : 0.00095\n",
      "NEW DELHI : 0.00095\n",
      "ANAND JN : 0.00093\n",
      "GORAKHPUR JN : 0.00092\n",
      "ASANSOL JN : 0.00092\n",
      "VISAKHAPATNAM : 0.00091\n",
      "NAGPUR : 0.00091\n",
      "SEALDAH : 0.0009\n",
      "BORIVALI : 0.00089\n",
      "PATNA JN : 0.00087\n",
      "KHURDA ROAD JN : 0.00086\n",
      "JAIPUR : 0.00084\n",
      "KATPADI JN : 0.00084\n",
      "BAREILLY : 0.00084\n",
      "MANMAD JN : 0.00084\n",
      "C SHIVAJI MAH T : 0.00084\n",
      "BINA JN : 0.00083\n",
      "BHUBANESWAR : 0.00083\n",
      "KHARAGPUR JN : 0.00083\n",
      "SALEM JN : 0.00083\n",
      "PUNE JN : 0.00083\n",
      "GWALIOR : 0.00082\n",
      "AGRA CANTT : 0.00081\n",
      "THRISUR : 0.00079\n",
      "ERODE JN : 0.00079\n",
      "BANDEL JN : 0.00078\n",
      "JALANDHAR CITY : 0.00078\n",
      "RAJAHMUNDRY : 0.00077\n",
      "SECUNDERABAD JN : 0.00077\n",
      "JALANDHAR CANT : 0.00076\n",
      "ONGOLE : 0.00075\n",
      "NELLORE : 0.00074\n",
      "KURLA JN : 0.00074\n",
      "SAHARANPUR : 0.00073\n",
      "KIUL JN : 0.00073\n",
      "AMRITSAR JN : 0.00073\n",
      "GUDUR JN : 0.00072\n",
      "JOLARPETTAI : 0.00072\n",
      "YESVANTPUR JN : 0.00071\n",
      "KOTA JN : 0.00071\n",
      "RAIPUR JN : 0.00071\n",
      "KSR BENGALURU : 0.00071\n",
      "SANTRAGACHI JN : 0.00071\n",
      "ALLAHABAD JN : 0.0007\n",
      "SAMASTIPUR JN : 0.0007\n",
      "VIZIANAGRAM JN : 0.0007\n",
      "RATLAM JN : 0.0007\n",
      "NEW JALPAIGURI : 0.00069\n",
      "COIMBATORE JN : 0.00068\n",
      "KOLLAM JN : 0.00068\n",
      "ALUVA : 0.00068\n",
      "JABALPUR : 0.00068\n",
      "CHHAPRA : 0.00068\n",
      "REWARI : 0.00067\n",
      "NADIAD JN : 0.00067\n",
      "BARAUNI JN : 0.00067\n",
      "MAHESANA JN : 0.00067\n",
      "AJMER JN : 0.00066\n",
      "VAPI : 0.00066\n",
      "VASAI ROAD : 0.00065\n",
      "TUNDLA JN : 0.00065\n",
      "WARANGAL : 0.00065\n",
      "BARABANKI JN : 0.00065\n",
      "BALHARSHAH : 0.00065\n",
      "TATANAGAR JN : 0.00064\n",
      "ANDHERI : 0.00064\n",
      "FARIDABAD : 0.00064\n",
      "CHENNAI EGMORE : 0.00064\n",
      "GUNTAKAL JN : 0.00064\n",
      "TIRUCHCHIRAPALI : 0.00063\n",
      "PALAKKAD JN : 0.00063\n",
      "BILASPUR JN : 0.00063\n",
      "PALANPUR JN : 0.00063\n",
      "SHAHJEHANPUR : 0.00063\n",
      "PHAGWARA JN : 0.00062\n",
      "NAGDA JN : 0.00062\n",
      "GONDIA JN : 0.00062\n"
     ]
    }
   ],
   "source": [
    "ranks = graph.rank(50, 0.85)\n",
    "rank_list = sorted([(vertex, ranks[vertex]) for vertex in ranks], key=lambda x: -x[1])\n",
    "for vertex, rank in rank_list[:100]:\n",
    "    print(station_mapping[vertex]['name'], \":\", round(rank, 5))"
   ]
  },
  {
   "cell_type": "markdown",
   "metadata": {},
   "source": [
    "As we can see, the PageRank algorithm does a pretty decent job of ranking the railway stations. It ranks <b>Howrah Jn</b> as the busiest railway station of India, closely followed by stations like <b>Kanpur Central</b>, <b>Kalyan Jn</b>, <b>Vijaywada Jn</b>, <b>Itarsi Jn</b>, <b>Ahemdabad Jn</b>, <b>Vadodara Jn</b> and <b>Lucknow NR</b>. These predictions seem to be pretty reasonable, and infact align very nicely with the rankings provided by this [website](http://www.walkthroughindia.com/walkthroughs/trains/top-12-busiest-railway-stations-india/)."
   ]
  },
  {
   "cell_type": "markdown",
   "metadata": {},
   "source": [
    "  "
   ]
  },
  {
   "cell_type": "markdown",
   "metadata": {},
   "source": [
    "### Making PageRank specific for our problem"
   ]
  },
  {
   "cell_type": "markdown",
   "metadata": {},
   "source": [
    "Originating and terminating stations of trains are more likely to be important stations. Further, unreserved trains are more likely to pass through less important, relatively smaller stations, and less likely to pass through a bunch of important stations. On the other hand, reserved trains are much more likely to pass through important stations. The PageRank algorithm cannot capture all these properties of our data on its own. However, we can model our graph of the railway network in a specific way, such that it can incorporate all of this information, so that our PageRank algorithm can provide us with better results.\n",
    "\n",
    "Specifically, we can add self loop edges with relatively larger weights to mark originating and terminating stations of trains. Further, we can also add extra multipliers to the weights of our graph, depending on whether the train we are considering for adding edges to our graph is unreserved or not.  "
   ]
  },
  {
   "cell_type": "markdown",
   "metadata": {},
   "source": [
    "#### Modeling new graph"
   ]
  },
  {
   "cell_type": "code",
   "execution_count": 8,
   "metadata": {},
   "outputs": [],
   "source": [
    "edges = []\n",
    "for i in range(np.size(train_table, axis=0)):\n",
    "    station_list = train_table[i, 7][:-1].split('$')\n",
    "    for i in range(len(station_list)):\n",
    "        if station_list[i] not in station_mapping:\n",
    "            continue\n",
    "        else:\n",
    "            if i == 0 or i == len(station_list) - 1:\n",
    "                if train_table[i, 3] != 'UNRESERVED':\n",
    "                    edges.append((station_list[i], station_list[i], 10 * 10))\n",
    "                else:\n",
    "                    edges.append((station_list[i], station_list[i], 10 * 2))\n",
    "            for j in range(i + 1, len(station_list)):\n",
    "                if station_list[j] not in station_mapping:\n",
    "                    continue\n",
    "                else:\n",
    "                    if train_table[i, 3] != 'UNRESERVED':\n",
    "                        edges.append((station_list[i], station_list[j], 1 * 2))\n",
    "                    else:\n",
    "                        edges.append((station_list[i], station_list[j], 1 * 1))"
   ]
  },
  {
   "cell_type": "markdown",
   "metadata": {},
   "source": [
    "#### Getting new rankings"
   ]
  },
  {
   "cell_type": "code",
   "execution_count": 9,
   "metadata": {},
   "outputs": [
    {
     "name": "stdout",
     "output_type": "stream",
     "text": [
      "HOWRAH JN : 0.0032299914\n",
      "NEW DELHI : 0.0019528751\n",
      "SEALDAH : 0.0019370082\n",
      "THANE : 0.0018996189\n",
      "DELHI : 0.0018904029\n",
      "VIJAYAWADA JN : 0.001728963\n",
      "AHMEDABAD JN : 0.001698128\n",
      "KANPUR CENTRAL : 0.0016731561\n",
      "H NIZAMUDDIN : 0.0016620263\n",
      "LUCKNOW NR : 0.0016309597\n",
      "C SHIVAJI MAH T : 0.0015898468\n",
      "KALYAN JN : 0.0015394498\n",
      "PUNE JN : 0.0015036637\n",
      "GORAKHPUR JN : 0.001480323\n",
      "BORIVALI : 0.0014553636\n",
      "AMBALA CANT JN : 0.0014540411\n",
      "PATNA JN : 0.001433949\n",
      "BARDDHAMAN JN : 0.0014216573\n",
      "VISAKHAPATNAM : 0.0014024297\n",
      "VARANASI JN : 0.0013835786\n",
      "SECUNDERABAD JN : 0.0013380281\n",
      "BANDEL JN : 0.0013250892\n",
      "ASANSOL JN : 0.0013169761\n",
      "KSR BENGALURU : 0.0012933683\n",
      "AMRITSAR JN : 0.0012816097\n",
      "YESVANTPUR JN : 0.0012684241\n",
      "VADODARA JN : 0.0012499792\n",
      "MORADABAD : 0.0012385353\n",
      "NAINPUR JN : 0.0012338774\n",
      "MGR CHENNAI CTL : 0.0012255331\n",
      "LUDHIANA JN : 0.0012160656\n",
      "JAIPUR : 0.0012070135\n",
      "ITARSI JN : 0.0011942137\n",
      "ANAND JN : 0.0011781346\n",
      "JHANSI JN : 0.0011696259\n",
      "GHAZIABAD : 0.0011598021\n",
      "MATHURA JN : 0.0011517399\n",
      "SURAT : 0.0011370754\n",
      "BHOPAL  JN : 0.0011233304\n",
      "JALANDHAR CITY : 0.0011216743\n",
      "PANVEL : 0.001101421\n",
      "TIRUCHCHIRAPALI : 0.0010828002\n",
      "BHUSAVAL JN : 0.0010827937\n",
      "REWARI : 0.0010775829\n",
      "CHENNAI BEACH : 0.001024564\n",
      "DD UPADHYAYA JN : 0.0010149122\n",
      "KHARAGPUR JN : 0.001014397\n",
      "BHUBANESWAR : 0.0010135019\n",
      "COIMBATORE JN : 0.0010115282\n",
      "TAMBARAM : 0.0010080295\n",
      "NAGPUR : 0.0010011844\n",
      "HUBBALLI JN : 0.0009713647\n",
      "GUWAHATI : 0.0009660985\n",
      "AJMER JN : 0.0009627057\n",
      "BAREILLY : 0.0009613156\n",
      "BINA JN : 0.0009476504\n",
      "RAIPUR JN : 0.0009407975\n",
      "DADAR : 0.0009364078\n",
      "GAYA JN : 0.0009319025\n",
      "JODHPUR JN : 0.0009229035\n",
      "JABALPUR : 0.0009186661\n",
      "ARAKKONAM JN : 0.0009159669\n",
      "TATANAGAR JN : 0.000914987\n",
      "DURG : 0.0009145986\n",
      "TIRUPATI : 0.0009035015\n",
      "BILASPUR JN : 0.0008920455\n",
      "AGRA CANTT : 0.0008901767\n",
      "GONDIA JN : 0.000889038\n",
      "GWALIOR : 0.0008871826\n",
      "LINGAMPALLI : 0.0008847965\n",
      "SANTRAGACHI JN : 0.0008811052\n",
      "BHATINDA JN : 0.0008665457\n",
      "KOTA JN : 0.0008645689\n",
      "SALEM JN : 0.0008599885\n",
      "NEW JALPAIGURI : 0.000854101\n",
      "MYSURU JN : 0.0008450682\n",
      "RATLAM JN : 0.0008430682\n",
      "MADURAI JN : 0.0008392795\n",
      "KACHEGUDA : 0.0008373357\n",
      "LOKMANYATILAK T : 0.0008370778\n",
      "ERNAKULAM JN : 0.0008301965\n",
      "CHHAPRA : 0.000826659\n",
      "SAHARANPUR : 0.0008252812\n",
      "VIRAR : 0.000813443\n",
      "JASIDIH JN : 0.0008094863\n",
      "MANMAD JN : 0.0008077702\n",
      "PURI : 0.0008066786\n",
      "NAIHATI JN : 0.000803164\n",
      "FIROZPUR CANT : 0.0007885946\n",
      "ROHTAK JN : 0.0007881551\n",
      "KADRIDEVARPALLI : 0.0007830895\n",
      "DHANBAD JN : 0.0007818134\n",
      "KATPADI JN : 0.0007693861\n",
      "ERODE JN : 0.0007649679\n",
      "ALLAHABAD JN : 0.000759825\n",
      "KIUL JN : 0.0007517461\n",
      "MAHESANA JN : 0.0007470425\n",
      "ANDHERI : 0.0007435617\n",
      "KHURDA ROAD JN : 0.0007352245\n",
      "CHENGALPATTU : 0.0007249625\n"
     ]
    }
   ],
   "source": [
    "graph = Graph(list(station_mapping.keys()), edges)\n",
    "ranks = graph.rank(50, 0.85)\n",
    "rank_list = sorted([(vertex, ranks[vertex]) for vertex in ranks], key=lambda x: -x[1])\n",
    "for vertex, rank in rank_list[:100]:\n",
    "    print(station_mapping[vertex]['name'], \":\", round(rank, 10))"
   ]
  },
  {
   "cell_type": "markdown",
   "metadata": {},
   "source": [
    "<i>Indeed, these set of rankings are better than the previous set. New Delhi, a pretty important railway station of India, appeared much lower in the previous set of rankings. This is rectified by our current set of rankings."
   ]
  }
 ],
 "metadata": {
  "kernelspec": {
   "display_name": "Python 3",
   "language": "python",
   "name": "python3"
  },
  "language_info": {
   "codemirror_mode": {
    "name": "ipython",
    "version": 3
   },
   "file_extension": ".py",
   "mimetype": "text/x-python",
   "name": "python",
   "nbconvert_exporter": "python",
   "pygments_lexer": "ipython3",
   "version": "3.7.3"
  }
 },
 "nbformat": 4,
 "nbformat_minor": 2
}
